{
 "cells": [
  {
   "cell_type": "code",
   "execution_count": null,
   "metadata": {},
   "outputs": [],
   "source": [
    "import numpy as np\n",
    "import pandas as pd\n",
    "import matplotlib.pyplot as plt\n",
    "from sklearn.model_selection import train_test_split\n",
    "from sklearn.linear_model import LogisticRegression\n",
    "from sklearn.tree import DecisionTreeClassifier, plot_tree, export_text\n",
    "import plotly.graph_objs as go\n",
    "import sklearn\n",
    "import joblib"
   ]
  },
  {
   "cell_type": "code",
   "execution_count": null,
   "metadata": {},
   "outputs": [],
   "source": [
    "df = pd.read_csv('loan_decision_data.csv')"
   ]
  },
  {
   "cell_type": "code",
   "execution_count": null,
   "metadata": {},
   "outputs": [],
   "source": [
    "X = df.drop(columns=['approved'])\n",
    "X_dummies = pd.get_dummies(X)\n",
    "\n",
    "y = df['approved']\n",
    "X_train, X_test, y_train, y_test = train_test_split(X_dummies, y, test_size=0.2, random_state=42)"
   ]
  },
  {
   "cell_type": "code",
   "execution_count": null,
   "metadata": {},
   "outputs": [],
   "source": [
    "X_dummies.head()"
   ]
  },
  {
   "cell_type": "code",
   "execution_count": null,
   "metadata": {},
   "outputs": [],
   "source": [
    "joblib.dump(X_dummies, 'X_dummies.joblib')\n",
    "joblib.dump(y, 'y.joblib')"
   ]
  },
  {
   "cell_type": "code",
   "execution_count": null,
   "metadata": {},
   "outputs": [],
   "source": [
    "# # Logistic Regression\n",
    "# lr = LogisticRegression()\n",
    "# lr.fit(X_train, y_train)\n",
    "\n",
    "# # Get accuracy score\n",
    "# score = lr.score(X_test, y_test)\n",
    "# print('Prediction accuracy:', score)\n",
    "\n",
    "# # Get coefficients and intercept\n",
    "# beta1, beta2, beta3, beta4 = model.coef_[0]  # Coefficients\n",
    "# beta0 = model.intercept_[0]  # Intercept\n",
    "\n",
    "# # Print the equation of the decision boundary\n",
    "# print(f\"Decision Plane Equation: {beta1} * x1 + {beta2} * x2 + {beta3} * x3 + {beta4} * x3 +{beta0} = 0\")"
   ]
  },
  {
   "cell_type": "code",
   "execution_count": null,
   "metadata": {},
   "outputs": [],
   "source": [
    "# Decision Tree Classifier\n",
    "# dtc = DecisionTreeClassifier(max_depth=8)\n",
    "dtc = DecisionTreeClassifier()\n",
    "dtc.fit(X_train, y_train)\n",
    "\n",
    "# Get accuracy score\n",
    "score = dtc.score(X_test, y_test)\n",
    "print('Prediction accuracy:', score)"
   ]
  },
  {
   "cell_type": "code",
   "execution_count": null,
   "metadata": {},
   "outputs": [],
   "source": [
    "# Visualize the Decision Tree\n",
    "plt.figure(figsize=(25, 15))\n",
    "plot_tree(dtc, filled=True, feature_names=list(X_dummies.columns), class_names=['denied','approved'], rounded=True, fontsize=8, node_ids=True)\n",
    "plt.title(\"Loan Decision Tree Classifier\")\n",
    "plt.show()"
   ]
  },
  {
   "cell_type": "code",
   "execution_count": null,
   "metadata": {},
   "outputs": [],
   "source": [
    "text_representation = export_text(dtc)\n",
    "with open(\"decistion_tree.log\", \"w\") as fout:\n",
    "    fout.write(text_representation)"
   ]
  },
  {
   "cell_type": "code",
   "execution_count": null,
   "metadata": {},
   "outputs": [],
   "source": [
    "help(sklearn.tree._tree.Tree)"
   ]
  },
  {
   "cell_type": "code",
   "execution_count": null,
   "metadata": {},
   "outputs": [],
   "source": [
    "# Save model\n",
    "joblib.dump(dtc, 'decision_tree_model.pkl')\n"
   ]
  },
  {
   "cell_type": "code",
   "execution_count": null,
   "metadata": {},
   "outputs": [],
   "source": [
    "# leaf_indices = [i for i in range(dtc.tree_.node_count) if dtc.tree_.children_left[i] == -1 and dtc.tree_.children_right[i] == -1]\n",
    "# from 4generate_cfs import get_node_class\n",
    "\n",
    "# approved, denied = 0, 0\n",
    "\n",
    "# for leaf in leaf_indices:\n",
    "#     if get_node_class(dtc, leaf)==1:\n",
    "#         approved+=1\n",
    "#     if get_node_class(dtc, leaf)==0:\n",
    "#         denied+=1\n",
    "\n",
    "# print(approved, denied)"
   ]
  },
  {
   "cell_type": "markdown",
   "metadata": {},
   "source": [
    "Visualizing the decision boundary (only possible when X has two or three columns)"
   ]
  },
  {
   "cell_type": "code",
   "execution_count": null,
   "metadata": {},
   "outputs": [],
   "source": [
    "# # Create a grid of x1 (Income) and x2 (Credit Score) values\n",
    "# x1 = np.linspace(df['Income'].min(), df['Income'].max(), 10)\n",
    "# x2 = np.linspace(df['Credit Score'].min(), df['Credit Score'].max(), 10)\n",
    "# x1, x2 = np.meshgrid(x1, x2)\n",
    "\n",
    "# # Solve for x3 (Amount Requested) in terms of x1 and x2\n",
    "# x3 = -(a * x1 + b * x2 + d) / c\n",
    "\n",
    "# # Define colors based on 'Approved' column: red for 0, green for 1\n",
    "# colors = ['red' if approved == 0 else 'green' for approved in df['Approved']]\n",
    "\n",
    "# # Create the 3D scatter plot for the points\n",
    "# scatter = go.Scatter3d(\n",
    "#     x=df['Income'],\n",
    "#     y=df['Credit Score'],\n",
    "#     z=df['Amount Requested'],\n",
    "#     mode='markers',\n",
    "#     marker=dict(size=2, color=colors, opacity=0.3),\n",
    "#     name='Data Points'\n",
    "# )\n",
    "\n",
    "# # Create the surface plot for the plane with a solid color\n",
    "# plane = go.Surface(\n",
    "#     x=x1,\n",
    "#     y=x2,\n",
    "#     z=x3,\n",
    "#     colorscale=[[0, 'blue'], [1, 'blue']],  # Set solid red color\n",
    "#     # colorscale='Reds', # set scale\n",
    "#     opacity=0.3,\n",
    "#     showscale=False,  # Disable the color scale\n",
    "#     name='Plane'\n",
    "# )\n",
    "\n",
    "# # Combine the scatter and plane into a figure\n",
    "# fig = go.Figure(data=[scatter, plane])\n",
    "\n",
    "# # Add titles to axes\n",
    "# fig.update_layout(scene=dict(\n",
    "#     xaxis_title='Income',\n",
    "#     yaxis_title='Credit Score',\n",
    "#     zaxis_title='Amount Requested'\n",
    "# ))\n",
    "\n",
    "# # Set camera position and enable rotation\n",
    "# fig.update_layout(scene_camera=dict(eye=dict(x=1.5, y=1.5, z=0.5)), width=800, height=800)\n",
    "\n",
    "# # Show the plot\n",
    "# fig.show()"
   ]
  }
 ],
 "metadata": {
  "kernelspec": {
   "display_name": "base",
   "language": "python",
   "name": "python3"
  },
  "language_info": {
   "codemirror_mode": {
    "name": "ipython",
    "version": 3
   },
   "file_extension": ".py",
   "mimetype": "text/x-python",
   "name": "python",
   "nbconvert_exporter": "python",
   "pygments_lexer": "ipython3",
   "version": "3.12.7"
  }
 },
 "nbformat": 4,
 "nbformat_minor": 2
}
