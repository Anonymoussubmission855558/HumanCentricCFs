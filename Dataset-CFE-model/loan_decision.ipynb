{
 "cells": [
  {
   "cell_type": "code",
   "execution_count": null,
   "metadata": {},
   "outputs": [],
   "source": [
    "import numpy as np\n",
    "import pandas as pd\n",
    "import matplotlib.pyplot as plt\n",
    "import random"
   ]
  },
  {
   "cell_type": "code",
   "execution_count": null,
   "metadata": {},
   "outputs": [],
   "source": [
    "df = pd.read_csv('loan_data.csv')\n",
    "decision_df = df.copy()[['credit_score']]\n",
    "\n",
    "# Create column for ratio\n",
    "decision_df['income:amount_requested'] = df['income']/df['amount_requested']"
   ]
  },
  {
   "cell_type": "code",
   "execution_count": null,
   "metadata": {},
   "outputs": [],
   "source": [
    "decision_df"
   ]
  },
  {
   "cell_type": "code",
   "execution_count": null,
   "metadata": {},
   "outputs": [],
   "source": [
    "# Normalize quantitative columns\n",
    "for col in decision_df.columns:\n",
    "    decision_df[col] = (decision_df[col] - decision_df[col].min()) / (decision_df[col].max() - decision_df[col].min())"
   ]
  },
  {
   "cell_type": "code",
   "execution_count": null,
   "metadata": {},
   "outputs": [],
   "source": [
    "decision_df.describe()"
   ]
  },
  {
   "cell_type": "code",
   "execution_count": null,
   "metadata": {},
   "outputs": [],
   "source": [
    "# Make education and employment type into quantitative variables\n",
    "education_desirability = {\n",
    "    \"advanced\": 1,\n",
    "    \"bachelors\": .8,\n",
    "    \"associate\": .6,\n",
    "    \"high_school\": .5,\n",
    "    \"less_than_high_school\": .1\n",
    "}\n",
    "\n",
    "employment_desirability = {\n",
    "    \"self\": .4,\n",
    "    \"govt\": .8,\n",
    "    \"private\": .6\n",
    "}\n",
    "\n",
    "decision_df['education_type'] = df['education_type'].map(education_desirability)\n",
    "decision_df['employment_type'] = df['employment_type'].map(employment_desirability)"
   ]
  },
  {
   "cell_type": "code",
   "execution_count": null,
   "metadata": {},
   "outputs": [],
   "source": [
    "decision_df"
   ]
  },
  {
   "cell_type": "code",
   "execution_count": null,
   "metadata": {},
   "outputs": [],
   "source": [
    "# Define how to weight attributes in loan approval decision\n",
    "desirability_weights = {'credit_score': 0.4,\n",
    "                        'income:amount_requested': 0.3,\n",
    "                        'education_type': 0.2,\n",
    "                        'employment_type': 0.1\n",
    "                        }\n",
    "\n",
    "desirability_scores = decision_df.dot(list(desirability_weights.values()))\n",
    "decision_df['desirability_score'] = desirability_scores"
   ]
  },
  {
   "cell_type": "code",
   "execution_count": null,
   "metadata": {},
   "outputs": [],
   "source": [
    "decision_df"
   ]
  },
  {
   "cell_type": "code",
   "execution_count": null,
   "metadata": {},
   "outputs": [],
   "source": [
    "approval_cutoff = decision_df['desirability_score'].median()\n",
    "decision_df['approved'] = [1 if score >= approval_cutoff else 0 for score in decision_df['desirability_score']]"
   ]
  },
  {
   "cell_type": "code",
   "execution_count": null,
   "metadata": {},
   "outputs": [],
   "source": [
    "decision_df.head(20)"
   ]
  },
  {
   "cell_type": "code",
   "execution_count": null,
   "metadata": {},
   "outputs": [],
   "source": [
    "decision_df.describe()"
   ]
  },
  {
   "cell_type": "code",
   "execution_count": null,
   "metadata": {},
   "outputs": [],
   "source": [
    "df['approved'] = decision_df['approved']"
   ]
  },
  {
   "cell_type": "code",
   "execution_count": null,
   "metadata": {},
   "outputs": [],
   "source": [
    "df.to_csv('loan_decision_data.csv', index=False)"
   ]
  }
 ],
 "metadata": {
  "kernelspec": {
   "display_name": "base",
   "language": "python",
   "name": "python3"
  },
  "language_info": {
   "codemirror_mode": {
    "name": "ipython",
    "version": 3
   },
   "file_extension": ".py",
   "mimetype": "text/x-python",
   "name": "python",
   "nbconvert_exporter": "python",
   "pygments_lexer": "ipython3",
   "version": "3.12.7"
  }
 },
 "nbformat": 4,
 "nbformat_minor": 2
}
