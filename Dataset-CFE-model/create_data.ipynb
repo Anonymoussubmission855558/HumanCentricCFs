{
 "cells": [
  {
   "cell_type": "code",
   "execution_count": null,
   "metadata": {},
   "outputs": [],
   "source": [
    "import numpy as np\n",
    "import pandas as pd\n",
    "import matplotlib.pyplot as plt\n",
    "import random"
   ]
  },
  {
   "cell_type": "code",
   "execution_count": null,
   "metadata": {},
   "outputs": [],
   "source": [
    "# Population size\n",
    "n = 100000"
   ]
  },
  {
   "cell_type": "code",
   "execution_count": null,
   "metadata": {},
   "outputs": [],
   "source": [
    "# Beta distribution parameters to simulate skewed credit score distribution\n",
    "a, b = 4, 2  # Shape parameters for the beta distribution (right-skewed)\n",
    "\n",
    "# Generate beta distributed values and scale them to credit score range (300 to 850)\n",
    "np.random.seed(42)\n",
    "credit_scores = np.random.beta(a, b, size=n)\n",
    "credit_scores = 300 + credit_scores * 550  # Scale beta values to the range [300, 850]\n",
    "credit_scores = [round(score) for score in credit_scores]"
   ]
  },
  {
   "cell_type": "code",
   "execution_count": null,
   "metadata": {},
   "outputs": [],
   "source": [
    "# Log-normal parameters for income distribution\n",
    "mean_log_income = np.log(50000)  # Median income around $60,000\n",
    "std_dev_log_income = .8  # Adjust standard deviation for income distribution\n",
    "\n",
    "# Generate synthetic income data (log-normal distribution, without capping extreme outliers)\n",
    "incomes = np.random.lognormal(mean=mean_log_income, sigma=std_dev_log_income, size=round(n*1.03))\n",
    "incomes = [round(income, 2) for income in incomes]\n",
    "\n",
    "# Filter values that fall within the range [min_income, max_income]\n",
    "min_income = 10000\n",
    "max_income = 500000\n",
    "incomes = np.array(incomes)\n",
    "incomes = incomes[(incomes >= min_income) & (incomes <= max_income)]\n",
    "incomes = incomes[:n]"
   ]
  },
  {
   "cell_type": "code",
   "execution_count": null,
   "metadata": {},
   "outputs": [],
   "source": [
    "# Generate synthetic data with a uniform distribution\n",
    "min_loan = 1000\n",
    "max_loan = 30000\n",
    "loan_amounts = np.random.uniform(min_loan, max_loan, n)\n",
    "loan_amounts = [round(amt, 2) for amt in loan_amounts]"
   ]
  },
  {
   "cell_type": "code",
   "execution_count": null,
   "metadata": {},
   "outputs": [],
   "source": [
    "# Distribution of employment type\n",
    "distribution = {\n",
    "    \"self\": 0.20,\n",
    "    \"govt\": 0.15,\n",
    "    \"private\": 0.65\n",
    "}\n",
    "\n",
    "# Create the list based on the given distribution\n",
    "employment_types = [[key] * int(n * distribution[key]) for key in distribution]\n",
    "employment_types = np.concatenate(employment_types).tolist()\n",
    "\n",
    "# If there's a rounding error and the total doesn't add to n, adjust\n",
    "while len(employment_types) < n:\n",
    "    employment_types.append(\"private\")  # Assuming 'private' gets the remainder\n",
    "\n",
    "random.shuffle(employment_types)  # Shuffle to randomize the list"
   ]
  },
  {
   "cell_type": "code",
   "execution_count": null,
   "metadata": {},
   "outputs": [],
   "source": [
    "# Distribution of education type\n",
    "distribution = {\n",
    "    \"advanced\": 0.14,\n",
    "    \"bachelors\": 0.43,\n",
    "    \"associate\": 0.1,\n",
    "    \"high_school\": 0.23,\n",
    "    \"less_than_high_school\": 0.1\n",
    "}\n",
    "\n",
    "# Create the list based on the given distribution\n",
    "education_types = [[key] * int(n * distribution[key]) for key in distribution]\n",
    "education_types = np.concatenate(education_types).tolist()\n",
    "\n",
    "# If there's a rounding error and the total doesn't add to n, adjust\n",
    "while len(education_types) < n:\n",
    "    education_types.append(\"bachelors\")  # Assuming 'bachelors' gets the remainder\n",
    "\n",
    "random.shuffle(education_types)  # Shuffle to randomize the list"
   ]
  },
  {
   "cell_type": "code",
   "execution_count": null,
   "metadata": {},
   "outputs": [],
   "source": [
    "# Create a DataFrame\n",
    "df = pd.DataFrame({\n",
    "    'income': incomes,\n",
    "    'credit_score': credit_scores,\n",
    "    'amount_requested': loan_amounts,\n",
    "    'employment_type': employment_types,\n",
    "    'education_type': education_types\n",
    "})"
   ]
  },
  {
   "cell_type": "code",
   "execution_count": null,
   "metadata": {},
   "outputs": [],
   "source": [
    "df.head(20)"
   ]
  },
  {
   "cell_type": "code",
   "execution_count": null,
   "metadata": {},
   "outputs": [],
   "source": [
    "df.describe()"
   ]
  },
  {
   "cell_type": "code",
   "execution_count": null,
   "metadata": {},
   "outputs": [],
   "source": [
    "# Plot 1: Histogram of Credit Score Distribution\n",
    "plt.figure(figsize=(10,6))\n",
    "plt.hist(df['credit_score'], bins=20, color='lightblue', edgecolor='black')\n",
    "plt.title('Distribution of Credit Scores (Beta Distribution)')\n",
    "plt.xlabel('Credit Score')\n",
    "plt.ylabel('Number of People')\n",
    "# plt.grid(True)\n",
    "plt.show()"
   ]
  },
  {
   "cell_type": "code",
   "execution_count": null,
   "metadata": {},
   "outputs": [],
   "source": [
    "# Plot 2: Histogram of Income Distribution\n",
    "plt.figure(figsize=(10,6))\n",
    "plt.hist(df['income'], bins=100, color='lightgreen', edgecolor='black')\n",
    "plt.title('Distribution of Incomes (Log-Normal Distribution)')\n",
    "plt.xlabel('Annual Income ($)')\n",
    "plt.ylabel('Number of People')\n",
    "plt.xscale('log')  # Log scale to better visualize income extremes\n",
    "# plt.grid(True)\n",
    "plt.show()"
   ]
  },
  {
   "cell_type": "code",
   "execution_count": null,
   "metadata": {},
   "outputs": [],
   "source": [
    "# Plot 3: Scatterplot of Credit Score vs. Income\n",
    "plt.figure(figsize=(10,6))\n",
    "plt.scatter(df['income'], df['credit_score'], alpha=0.5, s=1)\n",
    "plt.title('Income vs Credit Score')\n",
    "plt.xlabel('Annual Income ($)')\n",
    "plt.ylabel('Credit Score')\n",
    "# plt.xscale('log')  # Log scale to better visualize income extremes\n",
    "# plt.grid(True)\n",
    "plt.show()"
   ]
  },
  {
   "cell_type": "code",
   "execution_count": null,
   "metadata": {},
   "outputs": [],
   "source": [
    "# Save dataset to a CSV file\n",
    "df.to_csv('loan_data.csv', index=False)"
   ]
  }
 ],
 "metadata": {
  "kernelspec": {
   "display_name": "base",
   "language": "python",
   "name": "python3"
  },
  "language_info": {
   "codemirror_mode": {
    "name": "ipython",
    "version": 3
   },
   "file_extension": ".py",
   "mimetype": "text/x-python",
   "name": "python",
   "nbconvert_exporter": "python",
   "pygments_lexer": "ipython3",
   "version": "3.12.7"
  }
 },
 "nbformat": 4,
 "nbformat_minor": 2
}
